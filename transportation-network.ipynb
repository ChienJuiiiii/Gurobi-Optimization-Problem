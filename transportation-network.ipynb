{
 "cells": [
  {
   "cell_type": "code",
   "execution_count": 1,
   "id": "ba7c8c2b",
   "metadata": {},
   "outputs": [],
   "source": [
    "import gurobipy as gp\n",
    "from gurobipy import GRB\n",
    "from itertools import product"
   ]
  },
  {
   "cell_type": "markdown",
   "id": "01d53021",
   "metadata": {},
   "source": [
    "### Problem Data"
   ]
  },
  {
   "cell_type": "code",
   "execution_count": 2,
   "id": "556f24c0",
   "metadata": {},
   "outputs": [
    {
     "name": "stdout",
     "output_type": "stream",
     "text": [
      "{(0, 0): 0.6, (0, 1): 0.56, (0, 2): 0.22, (0, 3): 0.4, (1, 0): 0.36, (1, 1): 0.3, (1, 2): 0.28, (1, 3): 0.58, (2, 0): 0.65, (2, 1): 0.68, (2, 2): 0.55, (2, 3): 0.42}\n"
     ]
    }
   ],
   "source": [
    "supply = [10000, 15000, 15000]\n",
    "demand = [8000, 10000, 12000, 10000]\n",
    "plants_num = len(supply)\n",
    "whs_num = len(demand)\n",
    "cartesian_plants_whs = list(product(range(plants_num), range(whs_num)))\n",
    "transportation_cost = [0.60, 0.56, 0.22, 0.40, 0.36, 0.30, 0.28, 0.58, 0.65, 0.68, 0.55, 0.42]\n",
    "arc_cost = {cartesian_plants_whs[i]:transportation_cost[i] for i in range(12)}\n",
    "print(arc_cost)"
   ]
  },
  {
   "cell_type": "markdown",
   "id": "96d1932d",
   "metadata": {},
   "source": [
    "### Decision Variable"
   ]
  },
  {
   "cell_type": "code",
   "execution_count": 3,
   "id": "ea8042cd",
   "metadata": {},
   "outputs": [
    {
     "name": "stdout",
     "output_type": "stream",
     "text": [
      "Restricted license - for non-production use only - expires 2025-11-24\n"
     ]
    }
   ],
   "source": [
    "model = gp.Model('Trasportation Network')"
   ]
  },
  {
   "cell_type": "code",
   "execution_count": 4,
   "id": "ae9e2355",
   "metadata": {},
   "outputs": [
    {
     "name": "stdout",
     "output_type": "stream",
     "text": [
      "{(0, 0): <gurobi.Var *Awaiting Model Update*>, (0, 1): <gurobi.Var *Awaiting Model Update*>, (0, 2): <gurobi.Var *Awaiting Model Update*>, (0, 3): <gurobi.Var *Awaiting Model Update*>, (1, 0): <gurobi.Var *Awaiting Model Update*>, (1, 1): <gurobi.Var *Awaiting Model Update*>, (1, 2): <gurobi.Var *Awaiting Model Update*>, (1, 3): <gurobi.Var *Awaiting Model Update*>, (2, 0): <gurobi.Var *Awaiting Model Update*>, (2, 1): <gurobi.Var *Awaiting Model Update*>, (2, 2): <gurobi.Var *Awaiting Model Update*>, (2, 3): <gurobi.Var *Awaiting Model Update*>}\n"
     ]
    }
   ],
   "source": [
    "number_product = model.addVars(cartesian_plants_whs, vtype=GRB.CONTINUOUS, lb=0.00, name='number of product sent')\n",
    "print(number_product)"
   ]
  },
  {
   "cell_type": "markdown",
   "id": "db562fdd",
   "metadata": {},
   "source": [
    "### Objective function"
   ]
  },
  {
   "cell_type": "code",
   "execution_count": 9,
   "id": "47dceefa",
   "metadata": {},
   "outputs": [],
   "source": [
    "# model.setObjective(number_product.prod(transportation_cost))\n",
    "model.setObjective(gp.quicksum(number_product[(i,j)]*arc_cost[(i,j)] for i in range(plants_num) for j in range(whs_num)))"
   ]
  },
  {
   "cell_type": "markdown",
   "id": "5996c1cc",
   "metadata": {},
   "source": [
    "### Constraints"
   ]
  },
  {
   "cell_type": "code",
   "execution_count": 10,
   "id": "30dd3297",
   "metadata": {},
   "outputs": [
    {
     "name": "stdout",
     "output_type": "stream",
     "text": [
      "{0: <gurobi.Constr *Awaiting Model Update*>, 1: <gurobi.Constr *Awaiting Model Update*>, 2: <gurobi.Constr *Awaiting Model Update*>}\n",
      "{0: <gurobi.Constr *Awaiting Model Update*>, 1: <gurobi.Constr *Awaiting Model Update*>, 2: <gurobi.Constr *Awaiting Model Update*>, 3: <gurobi.Constr *Awaiting Model Update*>}\n"
     ]
    }
   ],
   "source": [
    "# supply\n",
    "supply_constr = model.addConstrs((gp.quicksum(number_product[(i,j)] for j in range(whs_num)) <= supply[i] for i in range(plants_num)), name='Supply')\n",
    "# demand\n",
    "demand_constr = model.addConstrs((gp.quicksum(number_product[(i,j)] for i in range(plants_num)) >= demand[j] for j in range(whs_num)), name='Demand')\n",
    "print(supply_constr)\n",
    "print(demand_constr)"
   ]
  },
  {
   "cell_type": "code",
   "execution_count": 11,
   "id": "1a8ddfa6",
   "metadata": {},
   "outputs": [
    {
     "name": "stdout",
     "output_type": "stream",
     "text": [
      "Gurobi Optimizer version 11.0.0 build v11.0.0rc2 (win64 - Windows 11.0 (22621.2))\n",
      "\n",
      "CPU model: 13th Gen Intel(R) Core(TM) i7-13700H, instruction set [SSE2|AVX|AVX2]\n",
      "Thread count: 14 physical cores, 20 logical processors, using up to 20 threads\n",
      "\n",
      "Optimize a model with 14 rows, 12 columns and 48 nonzeros\n",
      "Coefficient statistics:\n",
      "  Matrix range     [1e+00, 1e+00]\n",
      "  Objective range  [2e-01, 7e-01]\n",
      "  Bounds range     [0e+00, 0e+00]\n",
      "  RHS range        [8e+03, 2e+04]\n",
      "LP warm-start: use basis\n",
      "Iteration    Objective       Primal Inf.    Dual Inf.      Time\n",
      "       0    1.4250000e+04   0.000000e+00   0.000000e+00      0s\n",
      "\n",
      "Solved in 0 iterations and 0.01 seconds (0.00 work units)\n",
      "Optimal objective  1.425000000e+04\n"
     ]
    }
   ],
   "source": [
    "model.optimize()"
   ]
  },
  {
   "cell_type": "code",
   "execution_count": 12,
   "id": "30e524b4",
   "metadata": {},
   "outputs": [
    {
     "name": "stdout",
     "output_type": "stream",
     "text": [
      "\n",
      "    Variable            X \n",
      "-------------------------\n",
      "number of product sent[0,2]        10000 \n",
      "number of product sent[1,0]         5000 \n",
      "number of product sent[1,1]        10000 \n",
      "number of product sent[2,0]         3000 \n",
      "number of product sent[2,2]         2000 \n",
      "number of product sent[2,3]        10000 \n"
     ]
    }
   ],
   "source": [
    "model.printAttr('X')"
   ]
  }
 ],
 "metadata": {
  "kernelspec": {
   "display_name": "Python 3 (ipykernel)",
   "language": "python",
   "name": "python3"
  },
  "language_info": {
   "codemirror_mode": {
    "name": "ipython",
    "version": 3
   },
   "file_extension": ".py",
   "mimetype": "text/x-python",
   "name": "python",
   "nbconvert_exporter": "python",
   "pygments_lexer": "ipython3",
   "version": "3.11.4"
  }
 },
 "nbformat": 4,
 "nbformat_minor": 5
}
