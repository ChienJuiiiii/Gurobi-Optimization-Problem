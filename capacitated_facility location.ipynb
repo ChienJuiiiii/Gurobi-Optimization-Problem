{
 "cells": [
  {
   "cell_type": "markdown",
   "id": "531f96de",
   "metadata": {},
   "source": [
    "## Python Implementation\n",
    "\n",
    "This example considers two supermarkets and nine warehouse candidates. The coordinates of each supermarket are provided in the following table.\n",
    "\n",
    "| <i></i> | Coordinates |  \n",
    "| --- | --- | \n",
    "| Supermarket 1 | (0,1.5) |\n",
    "| Supermarket 2 | (2.5,1.2) |\n",
    "\n",
    "The following table shows the coordinates of the candidate warehouse sites and the fixed cost of building the warehouse in millions of GBP.\n",
    "\n",
    "| <i></i> | coordinates | fixed cost |\n",
    "| --- | --- |  --- |\n",
    "| Warehouse 1 | (0,0) | 3 |\n",
    "| Warehouse 2 | (0,1) | 2 |\n",
    "| Warehouse 3 | (0,2) | 3 |\n",
    "| Warehouse 4 | (1,0) | 1 |\n",
    "| Warehouse 5 | (1,1) | 3 | \n",
    "| Warehouse 6 | (1,2) | 3 |\n",
    "| Warehouse 7 | (2,0) | 4 |\n",
    "| Warehouse 8 | (2,1) | 3 |  \n",
    "| Warehouse 9 | (2,2) | 2 |\n",
    "\n",
    "\n",
    "The cost per mile is one million GBP.\n",
    "\n",
    "## Python Implementation\n",
    "\n",
    "We now import the Gurobi Python Module and other Python libraries. Then, we initialize the data structures with the given data."
   ]
  },
  {
   "cell_type": "code",
   "execution_count": 1,
   "id": "1106a5da",
   "metadata": {},
   "outputs": [],
   "source": [
    "from itertools import product\n",
    "from math import sqrt\n",
    "\n",
    "import gurobipy as gp\n",
    "from gurobipy import GRB"
   ]
  },
  {
   "cell_type": "code",
   "execution_count": 2,
   "id": "b1416442",
   "metadata": {},
   "outputs": [],
   "source": [
    "supermarkets = {\"supermarket1\":(0, 1.5), \"supermarket2\":(2.5, 1.2)}\n",
    "warehouses = {\n",
    "    \"warehouse1\":(0.00,0.00),\n",
    "    \"warehouse2\":(0.00,1.00),\n",
    "    \"warehouse3\":(0.00,2.00),\n",
    "    \"warehouse4\":(1.00,0.00),\n",
    "    \"warehouse5\":(1.00,1.00),\n",
    "    \"warehouse6\":(1.00,2.00),\n",
    "    \"warehouse7\":(2.00,0.00),\n",
    "    \"warehouse8\":(2.00,1.00),\n",
    "    \"warehouse9\":(2.00,2.00)\n",
    "}\n",
    "warehouse_cost = {\n",
    "    \"warehouse1\":3,\n",
    "    \"warehouse2\":2,\n",
    "    \"warehouse3\":3,\n",
    "    \"warehouse4\":1,\n",
    "    \"warehouse5\":3,\n",
    "    \"warehouse6\":3,\n",
    "    \"warehouse7\":4,\n",
    "    \"warehouse8\":3,\n",
    "    \"warehouse9\":2\n",
    "}\n",
    "\n",
    "# assume cost per mile is $1\n",
    "cost_per_mile = 1"
   ]
  },
  {
   "cell_type": "code",
   "execution_count": 118,
   "id": "8b44f0cd",
   "metadata": {},
   "outputs": [],
   "source": [
    "# Parameters\n",
    "customers = [(0,1.5), (2.5,1.2)]\n",
    "facilities = [(0,0), (0,1), (0,2), (1,0), (1,1), (1,2), (2,0), (2,1), (2,2)]\n",
    "setup_cost = [3,2,3,1,3,3,4,3,2]\n",
    "cost_per_mile = 1"
   ]
  },
  {
   "cell_type": "code",
   "execution_count": 119,
   "id": "b5ed1f55",
   "metadata": {},
   "outputs": [
    {
     "name": "stdout",
     "output_type": "stream",
     "text": [
      "[(0, 0), (0, 1), (0, 2), (0, 3), (0, 4), (0, 5), (0, 6), (0, 7), (0, 8), (1, 0), (1, 1), (1, 2), (1, 3), (1, 4), (1, 5), (1, 6), (1, 7), (1, 8)]\n",
      "{(0, 0): 1.5, (0, 1): 0.5, (0, 2): 0.5, (0, 3): 1.8027756377319946, (0, 4): 1.118033988749895, (0, 5): 1.118033988749895, (0, 6): 2.5, (0, 7): 2.0615528128088303, (0, 8): 2.0615528128088303, (1, 0): 2.773084924772409, (1, 1): 2.5079872407968904, (1, 2): 2.6248809496813377, (1, 3): 1.9209372712298547, (1, 4): 1.5132745950421556, (1, 5): 1.7, (1, 6): 1.3, (1, 7): 0.5385164807134504, (1, 8): 0.9433981132056605}\n"
     ]
    }
   ],
   "source": [
    "def compute_distance(loc1, loc2):\n",
    "    dx = loc1[0]-loc2[0]\n",
    "    dy = loc1[1]-loc2[1]\n",
    "    return sqrt(dx**2+dy**2)\n",
    "\n",
    "num_facilities = len(facilities)\n",
    "num_customers = len(customers)\n",
    "cartesian_prod = list(product(range(num_customers), range(num_facilities)))\n",
    "print(cartesian_prod)\n",
    "# The product is not limited to numeric values; it can be used with any iterable e.g. strings, tuples, lists.\n",
    "# The product returns all possible combinations of the elements in tuples.\n",
    "\n",
    "shipping_cost = {(c,f): compute_distance(customers[c], facilities[f]) for c, f in cartesian_prod}\n",
    "print(shipping_cost)"
   ]
  },
  {
   "cell_type": "markdown",
   "id": "3b2b65be",
   "metadata": {},
   "source": [
    "### Decision Variable"
   ]
  },
  {
   "cell_type": "code",
   "execution_count": 120,
   "id": "88bc9a39",
   "metadata": {},
   "outputs": [
    {
     "name": "stdout",
     "output_type": "stream",
     "text": [
      "{0: <gurobi.Var *Awaiting Model Update*>, 1: <gurobi.Var *Awaiting Model Update*>, 2: <gurobi.Var *Awaiting Model Update*>, 3: <gurobi.Var *Awaiting Model Update*>, 4: <gurobi.Var *Awaiting Model Update*>, 5: <gurobi.Var *Awaiting Model Update*>, 6: <gurobi.Var *Awaiting Model Update*>, 7: <gurobi.Var *Awaiting Model Update*>, 8: <gurobi.Var *Awaiting Model Update*>}\n",
      "{(0, 0): <gurobi.Var *Awaiting Model Update*>, (0, 1): <gurobi.Var *Awaiting Model Update*>, (0, 2): <gurobi.Var *Awaiting Model Update*>, (0, 3): <gurobi.Var *Awaiting Model Update*>, (0, 4): <gurobi.Var *Awaiting Model Update*>, (0, 5): <gurobi.Var *Awaiting Model Update*>, (0, 6): <gurobi.Var *Awaiting Model Update*>, (0, 7): <gurobi.Var *Awaiting Model Update*>, (0, 8): <gurobi.Var *Awaiting Model Update*>, (1, 0): <gurobi.Var *Awaiting Model Update*>, (1, 1): <gurobi.Var *Awaiting Model Update*>, (1, 2): <gurobi.Var *Awaiting Model Update*>, (1, 3): <gurobi.Var *Awaiting Model Update*>, (1, 4): <gurobi.Var *Awaiting Model Update*>, (1, 5): <gurobi.Var *Awaiting Model Update*>, (1, 6): <gurobi.Var *Awaiting Model Update*>, (1, 7): <gurobi.Var *Awaiting Model Update*>, (1, 8): <gurobi.Var *Awaiting Model Update*>}\n"
     ]
    }
   ],
   "source": [
    "model = gp.Model('facility_location')\n",
    "\n",
    "select = model.addVars(num_facilities, vtype=GRB.BINARY, name=\"Select\")\n",
    "assign = model.addVars(num_customers, num_facilities, vtype=GRB.CONTINUOUS, lb=0.00, ub=1, name=\"Assign\")\n",
    "print(select)\n",
    "print(assign)"
   ]
  },
  {
   "cell_type": "markdown",
   "id": "e63a1564",
   "metadata": {},
   "source": [
    "### Objective function"
   ]
  },
  {
   "cell_type": "code",
   "execution_count": 121,
   "id": "bd62bab2",
   "metadata": {},
   "outputs": [],
   "source": [
    "model.setObjective(\n",
    "    gp.quicksum(setup_cost[f]*select[f]+shipping_cost[c,f]*assign[c,f]\n",
    "                for f in range(num_facilities) for c in range(num_customers)), GRB.MINIMIZE)\n",
    "# above is equal to\n",
    "model.setObjective(select.prod(setup_cost)+assign.prod(shipping_cost), GRB.MINIMIZE)"
   ]
  },
  {
   "cell_type": "markdown",
   "id": "69faa1b9",
   "metadata": {},
   "source": [
    "### Constraint"
   ]
  },
  {
   "cell_type": "code",
   "execution_count": 122,
   "id": "2d0ed0e6",
   "metadata": {},
   "outputs": [
    {
     "data": {
      "text/plain": [
       "{(0, 0): <gurobi.Constr *Awaiting Model Update*>,\n",
       " (0, 1): <gurobi.Constr *Awaiting Model Update*>,\n",
       " (0, 2): <gurobi.Constr *Awaiting Model Update*>,\n",
       " (0, 3): <gurobi.Constr *Awaiting Model Update*>,\n",
       " (0, 4): <gurobi.Constr *Awaiting Model Update*>,\n",
       " (0, 5): <gurobi.Constr *Awaiting Model Update*>,\n",
       " (0, 6): <gurobi.Constr *Awaiting Model Update*>,\n",
       " (0, 7): <gurobi.Constr *Awaiting Model Update*>,\n",
       " (0, 8): <gurobi.Constr *Awaiting Model Update*>,\n",
       " (1, 0): <gurobi.Constr *Awaiting Model Update*>,\n",
       " (1, 1): <gurobi.Constr *Awaiting Model Update*>,\n",
       " (1, 2): <gurobi.Constr *Awaiting Model Update*>,\n",
       " (1, 3): <gurobi.Constr *Awaiting Model Update*>,\n",
       " (1, 4): <gurobi.Constr *Awaiting Model Update*>,\n",
       " (1, 5): <gurobi.Constr *Awaiting Model Update*>,\n",
       " (1, 6): <gurobi.Constr *Awaiting Model Update*>,\n",
       " (1, 7): <gurobi.Constr *Awaiting Model Update*>,\n",
       " (1, 8): <gurobi.Constr *Awaiting Model Update*>}"
      ]
     },
     "execution_count": 122,
     "metadata": {},
     "output_type": "execute_result"
    }
   ],
   "source": [
    "#################### why this does not work? the sum of supply for one facility should add up to 1\n",
    "model.addConstrs((gp.quicksum(assign[c,f] for c in range(num_customers)) <= select[f] for f in range(num_facilities)), name='Supply')\n",
    "# demand\n",
    "model.addConstrs((gp.quicksum(assign[(c,f)] for f in range(num_facilities)) == 1 for c in range(num_customers)), name='Demand')\n",
    "# for all 0<=assign<=1\n",
    "model.addConstrs((assign[(c,f)] <= select[f] for c,f in cartesian_prod), name='Supply')"
   ]
  },
  {
   "cell_type": "code",
   "execution_count": 123,
   "id": "ceb8f3f1",
   "metadata": {},
   "outputs": [
    {
     "name": "stdout",
     "output_type": "stream",
     "text": [
      "Gurobi Optimizer version 11.0.0 build v11.0.0rc2 (win64 - Windows 11.0 (22621.2))\n",
      "\n",
      "CPU model: 13th Gen Intel(R) Core(TM) i7-13700H, instruction set [SSE2|AVX|AVX2]\n",
      "Thread count: 14 physical cores, 20 logical processors, using up to 20 threads\n",
      "\n",
      "Optimize a model with 29 rows, 27 columns and 81 nonzeros\n",
      "Model fingerprint: 0x9e15f521\n",
      "Variable types: 18 continuous, 9 integer (9 binary)\n",
      "Coefficient statistics:\n",
      "  Matrix range     [1e+00, 1e+00]\n",
      "  Objective range  [5e-01, 8e+00]\n",
      "  Bounds range     [1e+00, 1e+00]\n",
      "  RHS range        [1e+00, 1e+00]\n",
      "Presolve removed 18 rows and 0 columns\n",
      "Presolve time: 0.00s\n",
      "Presolved: 11 rows, 27 columns, 45 nonzeros\n",
      "Variable types: 18 continuous, 9 integer (9 binary)\n",
      "Found heuristic solution: objective 11.0385165\n",
      "\n",
      "Root relaxation: objective 8.420937e+00, 9 iterations, 0.00 seconds (0.00 work units)\n",
      "\n",
      "    Nodes    |    Current Node    |     Objective Bounds      |     Work\n",
      " Expl Unexpl |  Obj  Depth IntInf | Incumbent    BestBd   Gap | It/Node Time\n",
      "\n",
      "*    0     0               0       8.4209373    8.42094  0.00%     -    0s\n",
      "\n",
      "Explored 1 nodes (9 simplex iterations) in 0.03 seconds (0.00 work units)\n",
      "Thread count was 20 (of 20 available processors)\n",
      "\n",
      "Solution count 2: 8.42094 11.0385 \n",
      "\n",
      "Optimal solution found (tolerance 1.00e-04)\n",
      "Best objective 8.420937271230e+00, best bound 8.420937271230e+00, gap 0.0000%\n"
     ]
    }
   ],
   "source": [
    "model.optimize()"
   ]
  },
  {
   "cell_type": "code",
   "execution_count": 125,
   "id": "4ea2df39",
   "metadata": {},
   "outputs": [
    {
     "name": "stdout",
     "output_type": "stream",
     "text": [
      "\n",
      "    Variable            X \n",
      "-------------------------\n",
      "   Select[1]            1 \n",
      "   Select[3]            1 \n",
      " Assign[0,1]            1 \n",
      " Assign[1,3]            1 \n"
     ]
    }
   ],
   "source": [
    "model.printAttr('X')"
   ]
  }
 ],
 "metadata": {
  "kernelspec": {
   "display_name": "Python 3 (ipykernel)",
   "language": "python",
   "name": "python3"
  },
  "language_info": {
   "codemirror_mode": {
    "name": "ipython",
    "version": 3
   },
   "file_extension": ".py",
   "mimetype": "text/x-python",
   "name": "python",
   "nbconvert_exporter": "python",
   "pygments_lexer": "ipython3",
   "version": "3.11.4"
  }
 },
 "nbformat": 4,
 "nbformat_minor": 5
}
