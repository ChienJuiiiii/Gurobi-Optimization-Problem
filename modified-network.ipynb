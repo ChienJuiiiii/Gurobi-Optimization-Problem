{
 "cells": [
  {
   "cell_type": "code",
   "execution_count": 1,
   "id": "97cbb73f",
   "metadata": {},
   "outputs": [],
   "source": [
    "import gurobipy as gp\n",
    "from gurobipy import GRB\n",
    "from itertools import product"
   ]
  },
  {
   "cell_type": "markdown",
   "id": "e3395cb6",
   "metadata": {},
   "source": [
    "### Problem Data"
   ]
  },
  {
   "cell_type": "code",
   "execution_count": 12,
   "id": "c9400efb",
   "metadata": {},
   "outputs": [
    {
     "name": "stdout",
     "output_type": "stream",
     "text": [
      "{(0, 0): 22, (0, 1): 17, (0, 2): 30, (0, 3): 18, (1, 0): 15, (1, 1): 35, (1, 2): 20, (1, 3): 25, (2, 0): 28, (2, 1): 21, (2, 2): 16, (2, 3): 14, (3, 0): 40, (3, 1): 65, (3, 2): 25, (3, 3): 50}\n"
     ]
    }
   ],
   "source": [
    "supply = [400,610,340,350]\n",
    "demand = [550,250,400,500]\n",
    "num_supply = len(supply)\n",
    "num_demand = len(demand)\n",
    "cartesian_supply_demand = list(product(range(num_supply),range(num_demand)))\n",
    "cost = [22,17,30,18,15,35,20,25,28,21,16,14,40,65,25,50]\n",
    "acr_cost = {cartesian_supply_demand[i]:cost[i] for i in range(16)}"
   ]
  },
  {
   "cell_type": "markdown",
   "id": "55f73ef0",
   "metadata": {},
   "source": [
    "### Decision Variable"
   ]
  },
  {
   "cell_type": "code",
   "execution_count": 13,
   "id": "4f411b9c",
   "metadata": {},
   "outputs": [
    {
     "name": "stdout",
     "output_type": "stream",
     "text": [
      "Restricted license - for non-production use only - expires 2025-11-24\n"
     ]
    }
   ],
   "source": [
    "model = gp.Model('Modified network')"
   ]
  },
  {
   "cell_type": "code",
   "execution_count": 14,
   "id": "bbeb72a8",
   "metadata": {},
   "outputs": [],
   "source": [
    "num_arc_sent = model.addVars(acr_cost, vtype=GRB.CONTINUOUS, lb=0.00, name='num_arc_sent')"
   ]
  },
  {
   "cell_type": "markdown",
   "id": "1dd656a9",
   "metadata": {},
   "source": [
    "### Objective Function"
   ]
  },
  {
   "cell_type": "code",
   "execution_count": 16,
   "id": "f7a16ed7",
   "metadata": {},
   "outputs": [],
   "source": [
    "model.setObjective(gp.quicksum(num_arc_sent[(i,j)]*acr_cost[(i,j)] for i in range(num_supply) for j in range(num_demand)))"
   ]
  },
  {
   "cell_type": "markdown",
   "id": "91e36c20",
   "metadata": {},
   "source": [
    "### Constraints"
   ]
  },
  {
   "cell_type": "code",
   "execution_count": 21,
   "id": "233b390a",
   "metadata": {},
   "outputs": [],
   "source": [
    "# supply\n",
    "supply_constraint = model.addConstrs((gp.quicksum(num_arc_sent[(i,j)] for j in range(num_demand)) <= supply[i] for i in range(num_supply)), name='Supply')\n",
    "# demand\n",
    "demand_constraint = model.addConstrs((gp.quicksum(num_arc_sent[(i,j)] for i in range(num_supply)) >= demand[j] for j in range(num_demand)), name='Demand')"
   ]
  },
  {
   "cell_type": "code",
   "execution_count": 22,
   "id": "28a1539d",
   "metadata": {},
   "outputs": [
    {
     "name": "stdout",
     "output_type": "stream",
     "text": [
      "Gurobi Optimizer version 11.0.0 build v11.0.0rc2 (win64 - Windows 11.0 (22621.2))\n",
      "\n",
      "CPU model: 13th Gen Intel(R) Core(TM) i7-13700H, instruction set [SSE2|AVX|AVX2]\n",
      "Thread count: 14 physical cores, 20 logical processors, using up to 20 threads\n",
      "\n",
      "Optimize a model with 24 rows, 16 columns and 96 nonzeros\n",
      "Model fingerprint: 0x3fca1190\n",
      "Coefficient statistics:\n",
      "  Matrix range     [1e+00, 1e+00]\n",
      "  Objective range  [1e+01, 7e+01]\n",
      "  Bounds range     [0e+00, 0e+00]\n",
      "  RHS range        [3e+02, 6e+02]\n",
      "Presolve removed 16 rows and 0 columns\n",
      "Presolve time: 0.01s\n",
      "Presolved: 8 rows, 16 columns, 32 nonzeros\n",
      "\n",
      "Iteration    Objective       Primal Inf.    Dual Inf.      Time\n",
      "       0    0.0000000e+00   2.125000e+02   0.000000e+00      0s\n",
      "       9    2.9960000e+04   0.000000e+00   0.000000e+00      0s\n",
      "\n",
      "Solved in 9 iterations and 0.02 seconds (0.00 work units)\n",
      "Optimal objective  2.996000000e+04\n"
     ]
    }
   ],
   "source": [
    "model.optimize()"
   ]
  },
  {
   "cell_type": "code",
   "execution_count": 23,
   "id": "4cb23305",
   "metadata": {},
   "outputs": [
    {
     "name": "stdout",
     "output_type": "stream",
     "text": [
      "\n",
      "    Variable            X \n",
      "-------------------------\n",
      "num_arc_sent[0,1]          250 \n",
      "num_arc_sent[0,3]          150 \n",
      "num_arc_sent[1,0]          550 \n",
      "num_arc_sent[1,2]           50 \n",
      "num_arc_sent[1,3]           10 \n",
      "num_arc_sent[2,3]          340 \n",
      "num_arc_sent[3,2]          350 \n"
     ]
    }
   ],
   "source": [
    "model.printAttr('X')"
   ]
  }
 ],
 "metadata": {
  "kernelspec": {
   "display_name": "Python 3 (ipykernel)",
   "language": "python",
   "name": "python3"
  },
  "language_info": {
   "codemirror_mode": {
    "name": "ipython",
    "version": 3
   },
   "file_extension": ".py",
   "mimetype": "text/x-python",
   "name": "python",
   "nbconvert_exporter": "python",
   "pygments_lexer": "ipython3",
   "version": "3.11.4"
  }
 },
 "nbformat": 4,
 "nbformat_minor": 5
}
