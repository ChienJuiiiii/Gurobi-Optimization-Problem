{
 "cells": [
  {
   "cell_type": "code",
   "execution_count": 5,
   "id": "731a33b4",
   "metadata": {},
   "outputs": [],
   "source": [
    "import gurobipy as gp\n",
    "from gurobipy import GRB\n",
    "from itertools import product"
   ]
  },
  {
   "cell_type": "markdown",
   "id": "da733065",
   "metadata": {},
   "source": [
    "### Problem Data"
   ]
  },
  {
   "cell_type": "code",
   "execution_count": 29,
   "id": "b3fa6848",
   "metadata": {},
   "outputs": [
    {
     "name": "stdout",
     "output_type": "stream",
     "text": [
      "{(0, 0): 0.4, (0, 1): 0.32, (1, 0): 0.22, (1, 1): 0.24, (2, 0): 0.52, (2, 1): 0.36}\n",
      "{(0, 0): 0.18, (0, 1): 0.34, (0, 2): 0.16, (0, 3): 0.36, (1, 0): 0.24, (1, 1): 0.48, (1, 2): 0.14, (1, 3): 0.3}\n"
     ]
    }
   ],
   "source": [
    "supply = [10000, 15000, 15000]\n",
    "demand = [8000, 8000, 12000, 10000]\n",
    "distributors = [0,0]\n",
    "# check supply and demand balance (surplus exists)\n",
    "net = sum(supply)-sum(demand)\n",
    "num_supply = len(supply)\n",
    "num_demand = len(demand)\n",
    "num_distributor = len(distributors)\n",
    "cartesina_supply_dist = list(product(range(num_supply), range(num_distributor)))\n",
    "cartesina_dist_demand = list(product(range(num_distributor), range(num_demand)))\n",
    "transportation_cost_supply_dist = [0.4, 0.32, 0.22, 0.24, 0.52, 0.36]\n",
    "transportation_cost_dist_demand = [0.18, 0.34, 0.16, 0.36, 0.24, 0.48, 0.14, 0.3]\n",
    "arc_cost_supply_dist = {cartesina_supply_dist[i]:transportation_cost_supply_dist[i] for i in range(6)}\n",
    "arc_cost_dist_demand = {cartesina_dist_demand[i]:transportation_cost_dist_demand[i] for i in range(8)}\n",
    "print(arc_cost_supply_dist)\n",
    "print(arc_cost_dist_demand)"
   ]
  },
  {
   "cell_type": "markdown",
   "id": "ddbbbbb9",
   "metadata": {},
   "source": [
    "### Decision Variable"
   ]
  },
  {
   "cell_type": "code",
   "execution_count": 30,
   "id": "97928193",
   "metadata": {},
   "outputs": [],
   "source": [
    "model = gp.Model('Trasshipment Network')"
   ]
  },
  {
   "cell_type": "code",
   "execution_count": 32,
   "id": "bbf5029f",
   "metadata": {},
   "outputs": [
    {
     "name": "stdout",
     "output_type": "stream",
     "text": [
      "{(0, 0): <gurobi.Var *Awaiting Model Update*>, (0, 1): <gurobi.Var *Awaiting Model Update*>, (1, 0): <gurobi.Var *Awaiting Model Update*>, (1, 1): <gurobi.Var *Awaiting Model Update*>, (2, 0): <gurobi.Var *Awaiting Model Update*>, (2, 1): <gurobi.Var *Awaiting Model Update*>}\n",
      "{(0, 0): <gurobi.Var *Awaiting Model Update*>, (0, 1): <gurobi.Var *Awaiting Model Update*>, (0, 2): <gurobi.Var *Awaiting Model Update*>, (0, 3): <gurobi.Var *Awaiting Model Update*>, (1, 0): <gurobi.Var *Awaiting Model Update*>, (1, 1): <gurobi.Var *Awaiting Model Update*>, (1, 2): <gurobi.Var *Awaiting Model Update*>, (1, 3): <gurobi.Var *Awaiting Model Update*>}\n"
     ]
    }
   ],
   "source": [
    "num_product_supply_to_dist = model.addVars(cartesina_supply_dist, vtype=GRB.CONTINUOUS, lb=0.00, name='#supply_to_dist')\n",
    "num_product_dist_to_demand = model.addVars(cartesina_dist_demand, vtype=GRB.CONTINUOUS, lb=0.00, name='#dist_to_demand')\n",
    "print(num_product_supply_to_dist)\n",
    "print(num_product_dist_to_demand)"
   ]
  },
  {
   "cell_type": "markdown",
   "id": "eb84ba5a",
   "metadata": {},
   "source": [
    "### Objective Function"
   ]
  },
  {
   "cell_type": "code",
   "execution_count": 33,
   "id": "976f237c",
   "metadata": {},
   "outputs": [],
   "source": [
    "model.setObjective(gp.quicksum(num_product_supply_to_dist[(i,k)]*arc_cost_supply_dist[(i,k)]\n",
    "                               for i in range(num_supply) for k in range(num_distributor))+\n",
    "                  gp.quicksum(num_product_dist_to_demand[(k,j)]*arc_cost_dist_demand[(k,j)]\n",
    "                              for k in range(num_distributor) for j in range(num_demand)\n",
    "                             ))"
   ]
  },
  {
   "cell_type": "markdown",
   "id": "9bde8f59",
   "metadata": {},
   "source": [
    "### Constraint"
   ]
  },
  {
   "cell_type": "code",
   "execution_count": 35,
   "id": "f281af17",
   "metadata": {},
   "outputs": [],
   "source": [
    "# supply\n",
    "supply_constr = model.addConstrs((gp.quicksum(num_product_supply_to_dist[(i,k)] for k in range(num_distributor))<=supply[i]\n",
    "                                 for i in range(num_supply)), name='Supply')\n",
    "# demand\n",
    "demand_constr = model.addConstrs((gp.quicksum(num_product_dist_to_demand[(k,j)] for k in range(num_distributor)) >= demand[j]\n",
    "                                 for j in range(num_demand)), name='Demand')\n",
    "# conservation law\n",
    "conservation_constr = model.addConstrs((gp.quicksum(num_product_supply_to_dist[(i,k)] for i in range(num_supply))==\n",
    "                                       gp.quicksum(num_product_dist_to_demand[(k,j)] for j in range(num_demand))\n",
    "                                       for k in range(num_distributor)), name='Conservation Law')            "
   ]
  },
  {
   "cell_type": "code",
   "execution_count": 36,
   "id": "e15020bb",
   "metadata": {},
   "outputs": [
    {
     "name": "stdout",
     "output_type": "stream",
     "text": [
      "Gurobi Optimizer version 11.0.0 build v11.0.0rc2 (win64 - Windows 11.0 (22621.2))\n",
      "\n",
      "CPU model: 13th Gen Intel(R) Core(TM) i7-13700H, instruction set [SSE2|AVX|AVX2]\n",
      "Thread count: 14 physical cores, 20 logical processors, using up to 20 threads\n",
      "\n",
      "Optimize a model with 16 rows, 28 columns and 42 nonzeros\n",
      "Model fingerprint: 0x72b41f5f\n",
      "Coefficient statistics:\n",
      "  Matrix range     [1e+00, 1e+00]\n",
      "  Objective range  [1e-01, 5e-01]\n",
      "  Bounds range     [0e+00, 0e+00]\n",
      "  RHS range        [8e+03, 2e+04]\n",
      "Presolve removed 7 rows and 14 columns\n",
      "Presolve time: 0.02s\n",
      "Presolved: 9 rows, 14 columns, 28 nonzeros\n",
      "\n",
      "Iteration    Objective       Primal Inf.    Dual Inf.      Time\n",
      "       0    0.0000000e+00   4.750000e+03   0.000000e+00      0s\n",
      "      10    2.0080000e+04   0.000000e+00   0.000000e+00      0s\n",
      "\n",
      "Solved in 10 iterations and 0.04 seconds (0.00 work units)\n",
      "Optimal objective  2.008000000e+04\n"
     ]
    }
   ],
   "source": [
    "model.optimize()"
   ]
  },
  {
   "cell_type": "code",
   "execution_count": 37,
   "id": "21a1c9f8",
   "metadata": {},
   "outputs": [
    {
     "name": "stdout",
     "output_type": "stream",
     "text": [
      "\n",
      "    Variable            X \n",
      "-------------------------\n",
      "#supply_to_dist[0,1]        10000 \n",
      "#supply_to_dist[1,0]        15000 \n",
      "#supply_to_dist[2,1]        13000 \n",
      "#dist_to_demand[0,0]         7000 \n",
      "#dist_to_demand[0,1]         8000 \n",
      "#dist_to_demand[1,0]         1000 \n",
      "#dist_to_demand[1,2]        12000 \n",
      "#dist_to_demand[1,3]        10000 \n"
     ]
    }
   ],
   "source": [
    "model.printAttr('X')"
   ]
  }
 ],
 "metadata": {
  "kernelspec": {
   "display_name": "Python 3 (ipykernel)",
   "language": "python",
   "name": "python3"
  },
  "language_info": {
   "codemirror_mode": {
    "name": "ipython",
    "version": 3
   },
   "file_extension": ".py",
   "mimetype": "text/x-python",
   "name": "python",
   "nbconvert_exporter": "python",
   "pygments_lexer": "ipython3",
   "version": "3.11.4"
  }
 },
 "nbformat": 4,
 "nbformat_minor": 5
}
