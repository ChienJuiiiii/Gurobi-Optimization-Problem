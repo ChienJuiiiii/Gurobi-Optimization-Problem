{
 "cells": [
  {
   "cell_type": "code",
   "execution_count": 2,
   "id": "3d0f181f",
   "metadata": {},
   "outputs": [],
   "source": [
    "from gurobipy import *"
   ]
  },
  {
   "cell_type": "code",
   "execution_count": 4,
   "id": "a0f57683",
   "metadata": {},
   "outputs": [
    {
     "name": "stdout",
     "output_type": "stream",
     "text": [
      "Restricted license - for non-production use only - expires 2024-10-28\n"
     ]
    }
   ],
   "source": [
    "model = Model()"
   ]
  },
  {
   "cell_type": "code",
   "execution_count": 8,
   "id": "b179926e",
   "metadata": {},
   "outputs": [],
   "source": [
    "x = model.addVar(vtype=GRB.BINARY, name=\"x\")\n",
    "y = model.addVar(vtype=GRB.BINARY, name = \"y\")\n",
    "z = model.addVar(vtype=GRB.BINARY, name = \"z\")"
   ]
  },
  {
   "cell_type": "code",
   "execution_count": 9,
   "id": "238e23a9",
   "metadata": {},
   "outputs": [],
   "source": [
    "model.setObjective(x+y+2*z, GRB.MAXIMIZE)"
   ]
  },
  {
   "cell_type": "code",
   "execution_count": 10,
   "id": "306ebb64",
   "metadata": {},
   "outputs": [],
   "source": [
    "constraint_time_limit = model.addConstr(x+2*y+3*z <=4)\n",
    "constraint_act_1_and_2 = model.addConstr(x+y>=1)"
   ]
  },
  {
   "cell_type": "code",
   "execution_count": 12,
   "id": "a7e9c6c1",
   "metadata": {},
   "outputs": [
    {
     "name": "stdout",
     "output_type": "stream",
     "text": [
      "Gurobi Optimizer version 10.0.3 build v10.0.3rc0 (win64)\n",
      "\n",
      "CPU model: 13th Gen Intel(R) Core(TM) i7-13700H, instruction set [SSE2|AVX|AVX2]\n",
      "Thread count: 14 physical cores, 20 logical processors, using up to 20 threads\n",
      "\n",
      "Optimize a model with 2 rows, 5 columns and 5 nonzeros\n",
      "Model fingerprint: 0x0728b8bf\n",
      "Variable types: 0 continuous, 5 integer (5 binary)\n",
      "Coefficient statistics:\n",
      "  Matrix range     [1e+00, 3e+00]\n",
      "  Objective range  [1e+00, 2e+00]\n",
      "  Bounds range     [1e+00, 1e+00]\n",
      "  RHS range        [1e+00, 4e+00]\n",
      "\n",
      "\n",
      "Presolve removed 2 rows and 5 columns\n",
      "Presolve time: 0.00s\n",
      "Presolve: All rows and columns removed\n",
      "\n",
      "Explored 0 nodes (0 simplex iterations) in 0.01 seconds (0.00 work units)\n",
      "Thread count was 1 (of 20 available processors)\n",
      "\n",
      "Solution count 2: 3 2 \n",
      "\n",
      "Optimal solution found (tolerance 1.00e-04)\n",
      "Best objective 3.000000000000e+00, best bound 3.000000000000e+00, gap 0.0000%\n",
      "\n",
      "    Variable            X \n",
      "-------------------------\n",
      "           x            1 \n",
      "           z            1 \n"
     ]
    }
   ],
   "source": [
    "model.optimize()\n",
    "model.printAttr('X') # retunr optimal decision"
   ]
  },
  {
   "cell_type": "code",
   "execution_count": 3,
   "id": "af83546b",
   "metadata": {},
   "outputs": [
    {
     "name": "stdout",
     "output_type": "stream",
     "text": [
      "Restricted license - for non-production use only - expires 2024-10-28\n"
     ]
    }
   ],
   "source": [
    "investment_model = Model()"
   ]
  },
  {
   "cell_type": "code",
   "execution_count": 4,
   "id": "c9acab17",
   "metadata": {},
   "outputs": [],
   "source": [
    "# set decision variable\n",
    "A = investment_model.addVar(vtype=GRB.CONTINUOUS, name=\"Adams\", lb=0.00)\n",
    "B = investment_model.addVar(vtype=GRB.CONTINUOUS, name=\"Barney\", lb=0.00)\n",
    "C = investment_model.addVar(vtype=GRB.CONTINUOUS, name=\"Chilton\", lb=0.00)\n",
    "D = investment_model.addVar(vtype=GRB.CONTINUOUS, name=\"Dunster\", lb=0.00)\n",
    "E = investment_model.addVar(vtype=GRB.CONTINUOUS, name=\"Excelsior\", lb=0.00)"
   ]
  },
  {
   "cell_type": "code",
   "execution_count": 5,
   "id": "aba045d7",
   "metadata": {},
   "outputs": [],
   "source": [
    "# set objective function\n",
    "investment_model.setObjective(0.045*A+0.0562*B+0.068*C+0.1015*D+0.2060*E, GRB.MAXIMIZE)"
   ]
  },
  {
   "cell_type": "code",
   "execution_count": 6,
   "id": "15774657",
   "metadata": {},
   "outputs": [],
   "source": [
    "# set constraint\n",
    "st_amount_limit = investment_model.addConstr(A+B+C+D+E==1)\n",
    "st_risk = investment_model.addConstr(A+2*B+2*C+3*D+5*E<=2.5*(A+B+C+D+E))\n",
    "st_money_market = investment_model.addConstr(A+B>=0.3)\n",
    "st_aggressive_growth = investment_model.addConstr(E<=0.2)"
   ]
  },
  {
   "cell_type": "code",
   "execution_count": 7,
   "id": "2cc7182d",
   "metadata": {},
   "outputs": [
    {
     "name": "stdout",
     "output_type": "stream",
     "text": [
      "Gurobi Optimizer version 10.0.3 build v10.0.3rc0 (win64)\n",
      "\n",
      "CPU model: 13th Gen Intel(R) Core(TM) i7-13700H, instruction set [SSE2|AVX|AVX2]\n",
      "Thread count: 14 physical cores, 20 logical processors, using up to 20 threads\n",
      "\n",
      "Optimize a model with 4 rows, 5 columns and 13 nonzeros\n",
      "Model fingerprint: 0x2789d85c\n",
      "Coefficient statistics:\n",
      "  Matrix range     [5e-01, 3e+00]\n",
      "  Objective range  [4e-02, 2e-01]\n",
      "  Bounds range     [0e+00, 0e+00]\n",
      "  RHS range        [2e-01, 1e+00]\n",
      "Presolve removed 1 rows and 0 columns\n",
      "Presolve time: 0.01s\n",
      "Presolved: 3 rows, 5 columns, 12 nonzeros\n",
      "\n",
      "Iteration    Objective       Primal Inf.    Dual Inf.      Time\n",
      "       0    2.0600000e-01   1.725000e+00   0.000000e+00      0s\n",
      "       4    9.6975000e-02   0.000000e+00   0.000000e+00      0s\n",
      "\n",
      "Solved in 4 iterations and 0.01 seconds (0.00 work units)\n",
      "Optimal objective  9.697500000e-02\n",
      "\n",
      "    Variable            X \n",
      "-------------------------\n",
      "       Adams         0.45 \n",
      "     Dunster         0.35 \n",
      "   Excelsior          0.2 \n"
     ]
    }
   ],
   "source": [
    "investment_model.optimize()\n",
    "investment_model.printAttr('X')"
   ]
  }
 ],
 "metadata": {
  "kernelspec": {
   "display_name": "Python 3 (ipykernel)",
   "language": "python",
   "name": "python3"
  },
  "language_info": {
   "codemirror_mode": {
    "name": "ipython",
    "version": 3
   },
   "file_extension": ".py",
   "mimetype": "text/x-python",
   "name": "python",
   "nbconvert_exporter": "python",
   "pygments_lexer": "ipython3",
   "version": "3.11.4"
  }
 },
 "nbformat": 4,
 "nbformat_minor": 5
}
