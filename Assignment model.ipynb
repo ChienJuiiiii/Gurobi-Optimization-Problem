{
 "cells": [
  {
   "cell_type": "markdown",
   "id": "5606219e",
   "metadata": {},
   "source": [
    "### Problem Data"
   ]
  },
  {
   "cell_type": "code",
   "execution_count": 4,
   "id": "523297f6",
   "metadata": {},
   "outputs": [],
   "source": [
    "import numpy as np\n",
    "import pandas as pd\n",
    "\n",
    "import gurobipy as gp\n",
    "from gurobipy import GRB\n",
    "\n",
    "# tested with Python 3.7.0 & Gurobi 9.0"
   ]
  },
  {
   "cell_type": "code",
   "execution_count": 5,
   "id": "5917ae3c",
   "metadata": {},
   "outputs": [],
   "source": [
    "time_req = {\n",
    "    \"Akron\": {\"Compact\":80, \"Coupe\": 56, \"Sedan\":43, \"SUV\":62, \"Truck\":46, \"Van\":58},\n",
    "    \"Buffalo\": {\"Compact\":94, \"Coupe\": 50, \"Sedan\":88, \"SUV\":64, \"Truck\":63, \"Van\":52},\n",
    "    \"Columbus\": {\"Compact\":94, \"Coupe\": 46, \"Sedan\":50, \"SUV\":40, \"Truck\":55, \"Van\":73},\n",
    "    \"Detroit\": {\"Compact\":98, \"Coupe\": 79, \"Sedan\":71, \"SUV\":65, \"Truck\":91, \"Van\":59},\n",
    "    \"Evansville\": {\"Compact\":61, \"Coupe\": 59, \"Sedan\":89, \"SUV\":98, \"Truck\":45, \"Van\":52},\n",
    "    \"Flint\": {\"Compact\":77, \"Coupe\": 49, \"Sedan\":65, \"SUV\":95, \"Truck\":72, \"Van\":91}\n",
    "}"
   ]
  },
  {
   "cell_type": "code",
   "execution_count": 3,
   "id": "848ddf26",
   "metadata": {},
   "outputs": [],
   "source": [
    "plants = [\"Akron\",\"Buffalo\",\"Columbus\",\"Detroit\",\"Evansville\",\"Flint\"]\n",
    "products = [\"Compact\",\"Coupe\",\"Sedan\",\"SUV\",\"Truck\",\"Van\"]"
   ]
  },
  {
   "cell_type": "code",
   "execution_count": 6,
   "id": "11095b3f",
   "metadata": {},
   "outputs": [
    {
     "name": "stdout",
     "output_type": "stream",
     "text": [
      "Restricted license - for non-production use only - expires 2024-10-28\n"
     ]
    }
   ],
   "source": [
    "model = gp.Model('Production Assignment')"
   ]
  },
  {
   "cell_type": "code",
   "execution_count": 11,
   "id": "46d95e94",
   "metadata": {},
   "outputs": [
    {
     "name": "stdout",
     "output_type": "stream",
     "text": [
      "{('Akron', 'Compact'): <gurobi.Var *Awaiting Model Update*>, ('Akron', 'Coupe'): <gurobi.Var *Awaiting Model Update*>, ('Akron', 'Sedan'): <gurobi.Var *Awaiting Model Update*>, ('Akron', 'SUV'): <gurobi.Var *Awaiting Model Update*>, ('Akron', 'Truck'): <gurobi.Var *Awaiting Model Update*>, ('Akron', 'Van'): <gurobi.Var *Awaiting Model Update*>, ('Buffalo', 'Compact'): <gurobi.Var *Awaiting Model Update*>, ('Buffalo', 'Coupe'): <gurobi.Var *Awaiting Model Update*>, ('Buffalo', 'Sedan'): <gurobi.Var *Awaiting Model Update*>, ('Buffalo', 'SUV'): <gurobi.Var *Awaiting Model Update*>, ('Buffalo', 'Truck'): <gurobi.Var *Awaiting Model Update*>, ('Buffalo', 'Van'): <gurobi.Var *Awaiting Model Update*>, ('Columbus', 'Compact'): <gurobi.Var *Awaiting Model Update*>, ('Columbus', 'Coupe'): <gurobi.Var *Awaiting Model Update*>, ('Columbus', 'Sedan'): <gurobi.Var *Awaiting Model Update*>, ('Columbus', 'SUV'): <gurobi.Var *Awaiting Model Update*>, ('Columbus', 'Truck'): <gurobi.Var *Awaiting Model Update*>, ('Columbus', 'Van'): <gurobi.Var *Awaiting Model Update*>, ('Detroit', 'Compact'): <gurobi.Var *Awaiting Model Update*>, ('Detroit', 'Coupe'): <gurobi.Var *Awaiting Model Update*>, ('Detroit', 'Sedan'): <gurobi.Var *Awaiting Model Update*>, ('Detroit', 'SUV'): <gurobi.Var *Awaiting Model Update*>, ('Detroit', 'Truck'): <gurobi.Var *Awaiting Model Update*>, ('Detroit', 'Van'): <gurobi.Var *Awaiting Model Update*>, ('Evansville', 'Compact'): <gurobi.Var *Awaiting Model Update*>, ('Evansville', 'Coupe'): <gurobi.Var *Awaiting Model Update*>, ('Evansville', 'Sedan'): <gurobi.Var *Awaiting Model Update*>, ('Evansville', 'SUV'): <gurobi.Var *Awaiting Model Update*>, ('Evansville', 'Truck'): <gurobi.Var *Awaiting Model Update*>, ('Evansville', 'Van'): <gurobi.Var *Awaiting Model Update*>, ('Flint', 'Compact'): <gurobi.Var *Awaiting Model Update*>, ('Flint', 'Coupe'): <gurobi.Var *Awaiting Model Update*>, ('Flint', 'Sedan'): <gurobi.Var *Awaiting Model Update*>, ('Flint', 'SUV'): <gurobi.Var *Awaiting Model Update*>, ('Flint', 'Truck'): <gurobi.Var *Awaiting Model Update*>, ('Flint', 'Van'): <gurobi.Var *Awaiting Model Update*>}\n"
     ]
    }
   ],
   "source": [
    "# decision variable\n",
    "plant_make_product = model.addVars(plants, products, vtype=GRB.BINARY, name=\"Plant Production\")\n",
    "print(plant_make_product)"
   ]
  },
  {
   "cell_type": "code",
   "execution_count": 14,
   "id": "9b6652b4",
   "metadata": {},
   "outputs": [],
   "source": [
    "# objective function\n",
    "model.setObjective(gp.quicksum(plant_make_product[plant, product]*time_req[plant][product]\n",
    "                 for plant in plants for product in products), GRB.MINIMIZE)"
   ]
  },
  {
   "cell_type": "code",
   "execution_count": 23,
   "id": "a3f50fd8",
   "metadata": {},
   "outputs": [],
   "source": [
    "# constraints\n",
    "# Note: quicksum should be wrapped with parantheses\n",
    "plant_make = model.addConstrs((gp.quicksum(plant_make_product[plant, product]\n",
    "                                         for product in products) >=1\n",
    "                              for plant in plants), name=\"Plant Make\")\n",
    "product_made_by = model.addConstrs((gp.quicksum(plant_make_product[plant, product]\n",
    "                                         for plant in plants) >=1\n",
    "                              for product in products), name=\"Product Made By\")"
   ]
  },
  {
   "cell_type": "code",
   "execution_count": 24,
   "id": "b081e417",
   "metadata": {},
   "outputs": [
    {
     "name": "stdout",
     "output_type": "stream",
     "text": [
      "Gurobi Optimizer version 10.0.3 build v10.0.3rc0 (win64)\n",
      "\n",
      "CPU model: 13th Gen Intel(R) Core(TM) i7-13700H, instruction set [SSE2|AVX|AVX2]\n",
      "Thread count: 14 physical cores, 20 logical processors, using up to 20 threads\n",
      "\n",
      "Optimize a model with 12 rows, 144 columns and 72 nonzeros\n",
      "Model fingerprint: 0x988a6015\n",
      "Variable types: 108 continuous, 36 integer (36 binary)\n",
      "Coefficient statistics:\n",
      "  Matrix range     [1e+00, 1e+00]\n",
      "  Objective range  [4e+01, 1e+02]\n",
      "  Bounds range     [1e+00, 1e+00]\n",
      "  RHS range        [1e+00, 1e+00]\n",
      "Found heuristic solution: objective 652.0000000\n",
      "Presolve removed 0 rows and 111 columns\n",
      "Presolve time: 0.01s\n",
      "Presolved: 12 rows, 33 columns, 66 nonzeros\n",
      "Found heuristic solution: objective 403.0000000\n",
      "Variable types: 0 continuous, 33 integer (33 binary)\n",
      "Found heuristic solution: objective 347.0000000\n",
      "\n",
      "Root relaxation: objective 3.140000e+02, 9 iterations, 0.00 seconds (0.00 work units)\n",
      "\n",
      "    Nodes    |    Current Node    |     Objective Bounds      |     Work\n",
      " Expl Unexpl |  Obj  Depth IntInf | Incumbent    BestBd   Gap | It/Node Time\n",
      "\n",
      "*    0     0               0     314.0000000  314.00000  0.00%     -    0s\n",
      "\n",
      "Explored 1 nodes (9 simplex iterations) in 0.09 seconds (0.00 work units)\n",
      "Thread count was 20 (of 20 available processors)\n",
      "\n",
      "Solution count 4: 314 347 403 652 \n",
      "\n",
      "Optimal solution found (tolerance 1.00e-04)\n",
      "Best objective 3.140000000000e+02, best bound 3.140000000000e+02, gap 0.0000%\n"
     ]
    }
   ],
   "source": [
    "model.optimize()"
   ]
  },
  {
   "cell_type": "code",
   "execution_count": 25,
   "id": "c0dd81bb",
   "metadata": {},
   "outputs": [
    {
     "name": "stdout",
     "output_type": "stream",
     "text": [
      "\n",
      "    Variable            X \n",
      "-------------------------\n",
      "Plant Production[Akron,Sedan]            1 \n",
      "Plant Production[Buffalo,Coupe]            1 \n",
      "Plant Production[Columbus,SUV]            1 \n",
      "Plant Production[Detroit,Van]            1 \n",
      "Plant Production[Evansville,Truck]            1 \n",
      "Plant Production[Flint,Compact]            1 \n"
     ]
    }
   ],
   "source": [
    "model.printAttr('X')"
   ]
  }
 ],
 "metadata": {
  "kernelspec": {
   "display_name": "Python 3 (ipykernel)",
   "language": "python",
   "name": "python3"
  },
  "language_info": {
   "codemirror_mode": {
    "name": "ipython",
    "version": 3
   },
   "file_extension": ".py",
   "mimetype": "text/x-python",
   "name": "python",
   "nbconvert_exporter": "python",
   "pygments_lexer": "ipython3",
   "version": "3.11.4"
  }
 },
 "nbformat": 4,
 "nbformat_minor": 5
}
